{
  "nbformat": 4,
  "nbformat_minor": 0,
  "metadata": {
    "colab": {
      "provenance": []
    },
    "kernelspec": {
      "name": "python3",
      "display_name": "Python 3"
    },
    "language_info": {
      "name": "python"
    }
  },
  "cells": [
    {
      "cell_type": "code",
      "source": [
        "#Elabora un programa que lea un arreglo de 10 posiciones que contenga las edades de 10 de sus compañeros,\n",
        "\n",
        "#calcule el promedio de las edades, obtenga la edad mayor y la edad menor. Al final imprima todos los elementos de la lista"
      ],
      "metadata": {
        "id": "RIf66MoC6jGy"
      },
      "execution_count": null,
      "outputs": []
    },
    {
      "cell_type": "code",
      "source": [
        "def main():\n",
        "    # Inicializar el arreglo de edades\n",
        "    edades = [0] * 10\n",
        "\n",
        "    # Leer las edades de los compañeros\n",
        "    for i in range(10):\n",
        "        while True:\n",
        "            try:\n",
        "                edades[i] = int(input(f\"Ingrese la edad del compañero {i + 1}: \"))\n",
        "                break\n",
        "            except ValueError:\n",
        "                print(\"Por favor, ingrese un valor numérico válido.\")\n",
        "\n",
        "    # Calcular el promedio de las edades\n",
        "    promedio = sum(edades) / len(edades)\n",
        "\n",
        "    # Encontrar la edad mayor y menor\n",
        "    edad_mayor = max(edades)\n",
        "    edad_menor = min(edades)\n",
        "\n",
        "    # Imprimir el resultado\n",
        "    print(f\"\\nPromedio de edades: {promedio:.2f}\")\n",
        "    print(f\"Edad mayor: {edad_mayor}\")\n",
        "    print(f\"Edad menor: {edad_menor}\")\n",
        "\n",
        "    # Imprimir todos los elementos de la lista\n",
        "    print(\"\\nEdades de los compañeros:\")\n",
        "    for i, edad in enumerate(edades, start=1):\n",
        "        print(f\"Compañero {i}: {edad}\")\n",
        "\n",
        "if __name__ == \"__main__\":\n",
        "    main()"
      ],
      "metadata": {
        "id": "x81smWGN6pIS"
      },
      "execution_count": null,
      "outputs": []
    },
    {
      "cell_type": "code",
      "source": [
        "#Elabore un programa que lea un arreglo de 14 posiciones que contenga los sueldos de los trabajadores de una empresa\n",
        "\n",
        "#agregue el sueldo de un empleado más de $2,500.00, Calcule la nomina total (suma de todos los sueldos) ordene el arreglo\n",
        "\n",
        "#Ordene los datos, elimine el primer elemento de la fila, Al final imprima todos los elementos de la lista"
      ],
      "metadata": {
        "id": "RPoDBHKd65gA"
      },
      "execution_count": null,
      "outputs": []
    },
    {
      "cell_type": "code",
      "source": [
        "def main():\n",
        "    # Inicializar el arreglo de sueldos\n",
        "    sueldos = [0.0] * 14\n",
        "\n",
        "    # Leer los sueldos de los trabajadores\n",
        "    for i in range(14):\n",
        "        while True:\n",
        "            try:\n",
        "                sueldos[i] = float(input(f\"Ingrese el sueldo del trabajador {i + 1}: \"))\n",
        "                break\n",
        "            except ValueError:\n",
        "                print(\"Por favor, ingrese un valor numérico válido.\")\n",
        "\n",
        "    # Agregar el sueldo de un empleado más de $2,500.00\n",
        "    sueldos.append(3000.0)\n",
        "\n",
        "    # Calcular la nómina total\n",
        "    nomina_total = sum(sueldos)\n",
        "\n",
        "    # Ordenar el arreglo\n",
        "    sueldos.sort()\n",
        "\n",
        "    # Eliminar el primer elemento del arreglo\n",
        "    sueldos.pop(0)\n",
        "\n",
        "    # Imprimir el resultado\n",
        "    print(\"\\nNómina total:\", nomina_total)\n",
        "    print(\"Sueldos ordenados:\")\n",
        "    for i, sueldo in enumerate(sueldos, start=1):\n",
        "        print(f\"Trabajador {i}: ${sueldo:.2f}\")\n",
        "\n",
        "if __name__ == \"__main__\":\n",
        "    main()"
      ],
      "metadata": {
        "id": "97OO0Vkm7DD7"
      },
      "execution_count": null,
      "outputs": []
    }
  ]
}